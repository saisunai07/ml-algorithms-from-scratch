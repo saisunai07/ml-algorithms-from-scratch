{
 "cells": [
  {
   "cell_type": "markdown",
   "id": "d434c64e",
   "metadata": {
    "id": "d434c64e"
   },
   "source": [
    "# Dataset:\n",
    "You will be working with two datasets: Train and Test, both containing images of 40 individuals. Each dataset has been preprocessed for this assignment."
   ]
  },
  {
   "cell_type": "code",
   "execution_count": 134,
   "id": "4a5a47f7",
   "metadata": {
    "executionInfo": {
     "elapsed": 414,
     "status": "ok",
     "timestamp": 1696094462965,
     "user": {
      "displayName": "Krishna Murthy Pagadala",
      "userId": "14515798625093887614"
     },
     "user_tz": -330
    },
    "id": "4a5a47f7"
   },
   "outputs": [],
   "source": [
    "# import all libraries\n",
    "import numpy as np\n",
    "import pandas as pd\n",
    "import matplotlib.pyplot as plt\n",
    "from sklearn.decomposition import PCA\n",
    "from sklearn.decomposition import KernelPCA"
   ]
  },
  {
   "cell_type": "markdown",
   "id": "45fb82dc",
   "metadata": {
    "id": "45fb82dc"
   },
   "source": [
    "# Create PCA function that takes two inputs: dataset, and k= number of principle component, and return the transform data"
   ]
  },
  {
   "cell_type": "code",
   "execution_count": 135,
   "id": "7b6edc41",
   "metadata": {
    "executionInfo": {
     "elapsed": 3,
     "status": "ok",
     "timestamp": 1696094463580,
     "user": {
      "displayName": "Krishna Murthy Pagadala",
      "userId": "14515798625093887614"
     },
     "user_tz": -330
    },
    "id": "7b6edc41"
   },
   "outputs": [],
   "source": [
    "def my_pca(Data,k):\n",
    "    # Center the data by subtracting the mean of each feature\n",
    "    mean = np.mean(Data, axis=0)\n",
    "    centered_data = Data - mean\n",
    "\n",
    "    # Calculate the covariance matrix\n",
    "    covariance_matrix = np.cov(centered_data, rowvar=False)\n",
    "\n",
    "    # Perform SVD on the covariance matrix\n",
    "    U, S, Vt = np.linalg.svd(covariance_matrix)\n",
    "\n",
    "    # Select the top k eigenvectors (principal components)\n",
    "    top_k_components = U[:, :k]\n",
    "\n",
    "    # Project the data into the PCA space\n",
    "    transformed_data = centered_data.dot(top_k_components)\n",
    "\n",
    "    return transformed_data\n"
   ]
  },
  {
   "cell_type": "markdown",
   "id": "62e39036",
   "metadata": {
    "id": "62e39036"
   },
   "source": [
    "# Read your TrainData and Test data. Try to remove the last column of the training data and assign it to one variable, do same thing for the TestData"
   ]
  },
  {
   "cell_type": "code",
   "execution_count": 136,
   "id": "9be5817a",
   "metadata": {
    "executionInfo": {
     "elapsed": 1096,
     "status": "ok",
     "timestamp": 1696094466107,
     "user": {
      "displayName": "Krishna Murthy Pagadala",
      "userId": "14515798625093887614"
     },
     "user_tz": -330
    },
    "id": "9be5817a"
   },
   "outputs": [],
   "source": [
    "# write the code here\n",
    "train_df = pd.read_csv('TrainData.csv')\n",
    "test_df = pd.read_csv('TestData.csv')\n",
    "\n",
    "# remove last column in  both train and test data and store it in y_train and y_test\n",
    "train_last_col = train_df['T_10305'].values\n",
    "test_last_col = test_df['Label'].values\n",
    "\n",
    "train_df = train_df.drop(['T_10305'], axis=1).values\n",
    "test_df = test_df.drop(['Label'], axis=1).values"
   ]
  },
  {
   "cell_type": "markdown",
   "id": "91d8316d",
   "metadata": {
    "id": "91d8316d"
   },
   "source": [
    "# Apply my_pca"
   ]
  },
  {
   "cell_type": "code",
   "execution_count": 137,
   "id": "3d1ef819",
   "metadata": {
    "id": "3d1ef819"
   },
   "outputs": [
    {
     "name": "stdout",
     "output_type": "stream",
     "text": [
      "k such that 95% of the variance is retained:  110\n"
     ]
    }
   ],
   "source": [
    "# write the code here\n",
    "\n",
    "\n",
    "# Center the data by subtracting the mean of each feature\n",
    "mean = np.mean(train_df, axis=0)\n",
    "centered_data = train_df - mean\n",
    "covariance_matrix = np.cov(centered_data, rowvar=False) # Calculate the covariance matrix\n",
    "U, S, Vt = np.linalg.svd(covariance_matrix) # Perform SVD on the covariance matrix\n",
    "\n",
    "# find k such that 95% of the variance is retained\n",
    "total_variance = np.sum(S)\n",
    "variance_retained = np.cumsum(S) / total_variance\n",
    "k = np.argmax(variance_retained >= 0.95) + 1\n",
    "print(\"k such that 95% of the variance is retained: \", k)\n",
    "\n",
    "# apply PCA on train data using my_pca function\n",
    "train_pca = my_pca(train_df, k)"
   ]
  },
  {
   "cell_type": "markdown",
   "id": "43f4effc",
   "metadata": {
    "id": "43f4effc"
   },
   "source": [
    "# Apply pca using sklearn"
   ]
  },
  {
   "cell_type": "code",
   "execution_count": 138,
   "id": "4c0e7685",
   "metadata": {
    "id": "4c0e7685"
   },
   "outputs": [],
   "source": [
    "# write the code here\n",
    "\n",
    "# apply pca using skelarn\n",
    "pca = PCA(n_components=k)\n",
    "pca.fit(train_df)\n",
    "train_pca_sklearn = pca.transform(train_df)"
   ]
  },
  {
   "cell_type": "markdown",
   "id": "8310d07d",
   "metadata": {
    "id": "8310d07d"
   },
   "source": [
    "# Create kernel PCA function that takes two inputs: dataset, and k= number of principle component, and return the transform data. In addition, you need to create three other function one for rbf_kernel, one for polynomial_kernel, and one for linear_kernel"
   ]
  },
  {
   "cell_type": "code",
   "execution_count": 139,
   "id": "c19afe03",
   "metadata": {
    "id": "c19afe03"
   },
   "outputs": [],
   "source": [
    "#\n",
    "def rbf_kernel(x, y, gamma=1.0):\n",
    "    \"\"\"\n",
    "    Radial Basis Function (RBF) kernel.\n",
    "    Build this function\n",
    "    \"\"\"\n",
    "    return np.exp(-gamma * np.linalg.norm(x - y) ** 2)\n",
    "\n",
    "def poly_kernel(x, y, degree=3):\n",
    "    \"\"\"\n",
    "    Polynomial kernel.\n",
    "    Build this function\n",
    "    \"\"\"\n",
    "    return (np.dot(x, y) + 1) ** degree\n",
    "\n",
    "def linear_kernel(x, y):\n",
    "    \"\"\"\n",
    "    Linear kernel.\n",
    "    Build this function\n",
    "    \"\"\"\n",
    "    return np.dot(x, y)\n",
    "\n",
    "def my_kpca(data, n_components, kernel_type='rbf', kernel_param=1.0):\n",
    "    \"\"\"\n",
    "    Kernel Principal Component Analysis (KPCA) function.\n",
    "\n",
    "    Parameters:\n",
    "    - data: Input data as an ndarray of shape (n_samples, n_features).\n",
    "    - n_components: Number of principal components to retain.\n",
    "    - kernel_type: Type of kernel ('rbf', 'poly', or 'linear').\n",
    "    - kernel_param: Kernel parameter (e.g., gamma for RBF, degree for polynomial).\n",
    "\n",
    "    Returns:\n",
    "    - Transformed data in the KPCA space.\n",
    "    \"\"\"\n",
    "\n",
    "    \" Build this function\"\n",
    "\n",
    "    n_samples, n_features = data.shape\n",
    "    K = np.zeros((n_samples, n_samples))\n",
    "\n",
    "    # Compute the kernel matrix K based on the specified kernel type and parameter\n",
    "    for i in range(n_samples):\n",
    "        for j in range(n_samples):\n",
    "            if kernel_type == 'rbf':\n",
    "                K[i, j] = rbf_kernel(data[i], data[j], gamma=kernel_param)\n",
    "            elif kernel_type == 'poly':\n",
    "                K[i, j] = poly_kernel(data[i], data[j], degree=kernel_param)\n",
    "            elif kernel_type == 'linear':\n",
    "                K[i, j] = linear_kernel(data[i], data[j])\n",
    "\n",
    "    # Center the kernel matrix\n",
    "    one_n = np.ones((n_samples, n_samples)) / n_samples\n",
    "    K = K - one_n.dot(K) - K.dot(one_n) + one_n.dot(K).dot(one_n)\n",
    "\n",
    "    # Eigen decomposition of the centered kernel matrix\n",
    "    eigvals, eigvecs = np.linalg.eigh(K)\n",
    "\n",
    "    # Sort eigenvalues and eigenvectors in descending order\n",
    "    eigvals = eigvals[::-1]\n",
    "    eigvecs = eigvecs[:, ::-1]\n",
    "\n",
    "    # Select the top n_components eigenvectors\n",
    "    X_kpca = np.column_stack([eigvecs[:, i] for i in range(n_components)])\n",
    "\n",
    "    return X_kpca"
   ]
  },
  {
   "cell_type": "markdown",
   "id": "4e287808",
   "metadata": {
    "id": "4e287808"
   },
   "source": [
    "# Apply my_kpca on the Train data\n"
   ]
  },
  {
   "cell_type": "code",
   "execution_count": 140,
   "id": "4180ca23",
   "metadata": {
    "id": "4180ca23"
   },
   "outputs": [],
   "source": [
    "# build your code here\n",
    "\n",
    "# 2.1\n",
    "train_kpca_rbf = my_kpca(train_df, k, kernel_type='rbf', kernel_param=1.0)\n",
    "\n",
    "# 2.2\n",
    "train_kpca_poly = my_kpca(train_df, k, kernel_type='poly', kernel_param=3)\n",
    "\n",
    "# 2.3\n",
    "train_kpca_linear = my_kpca(train_df, k, kernel_type='linear', kernel_param=1.0)"
   ]
  },
  {
   "cell_type": "markdown",
   "id": "b06316d0",
   "metadata": {
    "id": "b06316d0"
   },
   "source": [
    "# Apply Kpca using sklearn on Training data"
   ]
  },
  {
   "cell_type": "code",
   "execution_count": 141,
   "id": "3a63724c",
   "metadata": {
    "colab": {
     "base_uri": "https://localhost:8080/",
     "height": 403
    },
    "executionInfo": {
     "elapsed": 13,
     "status": "error",
     "timestamp": 1696094519295,
     "user": {
      "displayName": "Krishna Murthy Pagadala",
      "userId": "14515798625093887614"
     },
     "user_tz": -330
    },
    "id": "3a63724c",
    "outputId": "babf582b-eff3-443f-88cf-ecbd988cf06d"
   },
   "outputs": [],
   "source": [
    "# build your code here\n",
    "\n",
    "# apply kpca (rbf) using skelarn\n",
    "kpca_rbf_sklearn = KernelPCA(n_components=k, kernel='rbf', gamma=1.0)\n",
    "train_kpca_rbf_sklearn = kpca_rbf_sklearn.fit_transform(train_df)\n",
    "\n",
    "# apply kpca (poly) using skelarn\n",
    "kpca_poly_sklearn = KernelPCA(n_components=k, kernel='poly', degree=3)\n",
    "train_kpca_poly_sklearn = kpca_poly_sklearn.fit_transform(train_df)\n",
    "\n",
    "# apply kpca (linear) using skelarn\n",
    "kpca_linear_sklearn = KernelPCA(n_components=k, kernel='linear')\n",
    "train_kpca_linear_sklearn = kpca_linear_sklearn.fit_transform(train_df)"
   ]
  },
  {
   "cell_type": "code",
   "execution_count": 142,
   "id": "dc14d4b8",
   "metadata": {
    "id": "dc14d4b8"
   },
   "outputs": [],
   "source": [
    "# Apply PCA on test data using my_pca function\n",
    "test_pca = my_pca(test_df, k)\n",
    "# Apply PCA on test data using sklearn\n",
    "test_pca_sklearn = pca.transform(test_df)\n",
    "\n",
    "# Apply KPCA on test data using my_kpca(rbf) function\n",
    "test_kcpa_rbf = my_kpca(test_df, k, kernel_type='rbf', kernel_param=1.0)\n",
    "# Apply KPCA(rbf) on test data using sklearn\n",
    "test_kpca_rbf_sklearn = kpca_rbf_sklearn.transform(test_df)\n",
    "\n",
    "# Apply KPCA on test data using my_kpca (poly) function\n",
    "test_kcpa_poly = my_kpca(test_df, k, kernel_type='poly', kernel_param=3)\n",
    "# Apply KPCA(poly) on test data using sklearn\n",
    "test_kpca_poly_sklearn = kpca_poly_sklearn.transform(test_df)"
   ]
  },
  {
   "cell_type": "markdown",
   "id": "fb830358",
   "metadata": {
    "id": "fb830358"
   },
   "source": [
    "# You can use the functions below as your classifier\n"
   ]
  },
  {
   "cell_type": "code",
   "execution_count": 143,
   "id": "e0b009f8",
   "metadata": {
    "id": "e0b009f8"
   },
   "outputs": [],
   "source": [
    "# Function to calculate distance between two points\n",
    "def dis(x1, x2):\n",
    "    return np.linalg.norm(x1 - x2)\n",
    "\n",
    "# Function to perform classification\n",
    "def myclassifier(Train, Trainlabel, Test):\n",
    "    \" Train is the training data\"\n",
    "    \" Trainlabel is the training labels\"\n",
    "    \" Test is the testing data\"\n",
    "    pred = []\n",
    "\n",
    "    for testpoint in Test:\n",
    "        pred_dis = []\n",
    "        for trainpoint in Train:\n",
    "            pred_dis.append(dis(testpoint, trainpoint))\n",
    "        pred.append(Trainlabel[np.argmin(pred_dis)])\n",
    "\n",
    "    return np.array(pred)\n"
   ]
  },
  {
   "cell_type": "markdown",
   "id": "62885a8f",
   "metadata": {
    "id": "62885a8f"
   },
   "source": [
    "# Below function is to calculte the accuracy , you can use this function to get the accuracy of pca and kpca"
   ]
  },
  {
   "cell_type": "code",
   "execution_count": 144,
   "id": "25b0c755",
   "metadata": {
    "id": "25b0c755"
   },
   "outputs": [],
   "source": [
    "def calculate_accuracy(true_labels, predicted_labels):\n",
    "    # Ensure that the true labels and predicted labels have the same length\n",
    "    if len(true_labels) != len(predicted_labels):\n",
    "        raise ValueError(\"Length of true_labels and predicted_labels must be the same.\")\n",
    "\n",
    "    # Count the number of correct predictions\n",
    "    correct_predictions = sum(1 for true, predicted in zip(true_labels, predicted_labels) if true == predicted)\n",
    "\n",
    "    # Calculate accuracy as the ratio of correct predictions to total predictions\n",
    "    accuracy = correct_predictions / len(true_labels)\n",
    "\n",
    "    return accuracy\n"
   ]
  },
  {
   "cell_type": "code",
   "execution_count": 145,
   "id": "a648d942",
   "metadata": {
    "id": "a648d942"
   },
   "outputs": [
    {
     "name": "stdout",
     "output_type": "stream",
     "text": [
      "Accuracy of PCA is:  0.05\n",
      "Accuracy of PCA using sklearn is:  0.895\n",
      "Accuracy of KPCA using RBF kernel is:  1.0\n",
      "Accuracy of KPCA using RBF kernel(sklearn) is:  0.025\n",
      "Accuracy of KPCA using Polynomial kernel is:  0.035\n",
      "Accuracy of KPCA using Polynomial kernel(sklearn) is:  0.87\n"
     ]
    }
   ],
   "source": [
    "# apply myclassifier on train data using pca own function and sklearn\n",
    "pred_test_pca = myclassifier(train_pca, train_last_col, test_pca)\n",
    "pred_test_pca_sklearn = myclassifier(train_pca_sklearn, train_last_col, test_pca_sklearn)\n",
    "\n",
    "# apply myclassifier on train data using kpca(rbf) own function and sklearn\n",
    "pred_test_kpca_rbf = myclassifier(train_kpca_rbf, train_last_col, test_kcpa_rbf)\n",
    "pred_test_kpca_rbf_sklearn = myclassifier(train_kpca_rbf_sklearn, train_last_col, test_kpca_rbf_sklearn)\n",
    "\n",
    "# apply myclassifier on train data using kpca(poly) own function and sklearn\n",
    "pred_test_kpca_poly = myclassifier(train_kpca_poly, train_last_col, test_kcpa_poly)\n",
    "pred_test_kpca_poly_sklearn = myclassifier(train_kpca_poly_sklearn, train_last_col, test_kpca_poly_sklearn)\n",
    "\n",
    "# calculate accuracy for all cases\n",
    "accuracy_pca = calculate_accuracy(test_last_col, pred_test_pca)\n",
    "accuracy_pca_sklearn = calculate_accuracy(test_last_col, pred_test_pca_sklearn)\n",
    "accuracy_kpca_rbf = calculate_accuracy(test_last_col, pred_test_kpca_rbf)\n",
    "accuracy_kpca_poly = calculate_accuracy(test_last_col, pred_test_kpca_poly)\n",
    "accuracy_kpca_rbf_sklearn = calculate_accuracy(test_last_col, pred_test_kpca_rbf_sklearn)\n",
    "accuracy_kpca_poly_sklearn = calculate_accuracy(test_last_col, pred_test_kpca_poly_sklearn)\n",
    "\n",
    "# print the accuracy\n",
    "print(\"Accuracy of PCA is: \", accuracy_pca)\n",
    "print(\"Accuracy of PCA using sklearn is: \", accuracy_pca_sklearn)\n",
    "print(\"Accuracy of KPCA using RBF kernel is: \", accuracy_kpca_rbf)\n",
    "print(\"Accuracy of KPCA using RBF kernel(sklearn) is: \", accuracy_kpca_rbf_sklearn)\n",
    "print(\"Accuracy of KPCA using Polynomial kernel is: \", accuracy_kpca_poly)\n",
    "print(\"Accuracy of KPCA using Polynomial kernel(sklearn) is: \", accuracy_kpca_poly_sklearn)"
   ]
  },
  {
   "cell_type": "code",
   "execution_count": 133,
   "id": "33b482c7",
   "metadata": {},
   "outputs": [
    {
     "data": {
      "image/png": "[encoded data removed]",
      "text/plain": [
       "<Figure size 800x500 with 1 Axes>"
      ]
     },
     "metadata": {},
     "output_type": "display_data"
    },
    {
     "data": {
      "image/png": "[encoded data removed]",
      "text/plain": [
       "<Figure size 800x500 with 1 Axes>"
      ]
     },
     "metadata": {},
     "output_type": "display_data"
    },
    {
     "data": {
      "image/png": "[encoded data removed]",
      "text/plain": [
       "<Figure size 800x500 with 1 Axes>"
      ]
     },
     "metadata": {},
     "output_type": "display_data"
    }
   ],
   "source": [
    "# use matplotlib to plot the accuracy\n",
    "\n",
    "x = ['PCA', 'PCA(sklearn)']\n",
    "y = [accuracy_pca, accuracy_pca_sklearn]\n",
    "plt.figure(figsize=(8, 5))\n",
    "plt.bar(x, y)\n",
    "plt.xlabel('Kernels')\n",
    "plt.ylabel('Accuracy')\n",
    "plt.title('PCA')\n",
    "plt.show()\n",
    "\n",
    "x = ['KPCA(RBF)', 'KPCA(RBF)(sklearn)']\n",
    "y = [accuracy_kpca_rbf, accuracy_kpca_rbf_sklearn]\n",
    "plt.figure(figsize=(8, 5))\n",
    "plt.bar(x, y)\n",
    "plt.xlabel('Kernels')\n",
    "plt.ylabel('Accuracy')\n",
    "plt.title('KPCA(RBF)')\n",
    "plt.show()\n",
    "\n",
    "x = ['KPCA(Poly)', 'KPCA(Poly)(sklearn)']\n",
    "y = [accuracy_kpca_poly, accuracy_kpca_poly_sklearn]\n",
    "plt.figure(figsize=(8, 5))\n",
    "plt.bar(x, y)\n",
    "plt.xlabel('Kernels')\n",
    "plt.ylabel('Accuracy')\n",
    "plt.title('KPCA(Poly)')\n",
    "plt.show()"
   ]
  },
  {
   "cell_type": "markdown",
   "id": "d1813313",
   "metadata": {},
   "source": [
    "### Extra"
   ]
  },
  {
   "cell_type": "code",
   "execution_count": 146,
   "id": "3b3ea70a",
   "metadata": {},
   "outputs": [
    {
     "name": "stdout",
     "output_type": "stream",
     "text": [
      "Covariance matrix of the label attribute in the training data:  133.91959798994975\n"
     ]
    }
   ],
   "source": [
    "# compute covariance matrix of the label attribute in the training data\n",
    "covariance_matrix = np.cov(train_last_col, rowvar=False)\n",
    "print(\"Covariance matrix of the label attribute in the training data: \", covariance_matrix)"
   ]
  },
  {
   "cell_type": "markdown",
   "id": "086af2c0",
   "metadata": {},
   "source": [
    "## Summary\n",
    "\n",
    "we found that kernelPCA with rbf kernel outperformed.\n",
    "\n",
    "The ranking of the algorithms is KernelPCA(rbf) > kernelPCA(poly) > PCA\n",
    "\n",
    "The reason is that the kernelPCA performs non-linear dimensionality reduction. Thus capturing better relations between the features.\n"
   ]
  },
  {
   "cell_type": "markdown",
   "id": "7a94e163",
   "metadata": {},
   "source": [
    "### Advantages and disadvantages of implementing PCA and KPCA from scratch versus using sci-kit-learn's built-in functions\n",
    "\n",
    "Implementing from scratch:\n",
    "\n",
    "Advantages:\n",
    "- More control over the algorithm, such as the choice of kernel function for KPCA.\n",
    "- Can be more efficient, especially for large datasets.\n",
    "\n",
    "Disadvantages:\n",
    "- More time-consuming and complex to implement.\n",
    "- More likely to introduce errors.\n",
    "\n",
    "Using sci-kit-learn's built-in functions:\n",
    "\n",
    "Advantages:\n",
    "- Quick and easy to use.\n",
    "- Well-tested and reliable.\n",
    "\n",
    "Disadvantages:\n",
    "- Less control over the algorithm.\n",
    "- May not be as efficient for large datasets."
   ]
  }
 ],
 "metadata": {
  "colab": {
   "provenance": []
  },
  "kernelspec": {
   "display_name": "Python 3 (ipykernel)",
   "language": "python",
   "name": "python3"
  },
  "language_info": {
   "codemirror_mode": {
    "name": "ipython",
    "version": 3
   },
   "file_extension": ".py",
   "mimetype": "text/x-python",
   "name": "python",
   "nbconvert_exporter": "python",
   "pygments_lexer": "ipython3",
   "version": "3.9.13"
  }
 },
 "nbformat": 4,
 "nbformat_minor": 5
}
